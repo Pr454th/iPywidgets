{
 "cells": [
  {
   "cell_type": "markdown",
   "id": "0f890063-2913-489d-b359-efb322464eac",
   "metadata": {},
   "source": [
    "## Magic Methods"
   ]
  },
  {
   "cell_type": "code",
   "execution_count": 4,
   "id": "adada615-c29f-4b81-9153-2b70c50e112c",
   "metadata": {},
   "outputs": [],
   "source": [
    "class Person:\n",
    "    def __init__(self, name, age):\n",
    "        print('Object is being Constructed')\n",
    "        self.name=name\n",
    "        self.age=age\n",
    "    \n",
    "    def __del__(self):\n",
    "        print('Object is being Deconstructed')\n",
    "        \n",
    "    def summary(self):\n",
    "        print(self.name, self.age)"
   ]
  },
  {
   "cell_type": "code",
   "execution_count": 6,
   "id": "b08c2f22-f67f-4ded-8dea-5e7205b19254",
   "metadata": {},
   "outputs": [
    {
     "name": "stdout",
     "output_type": "stream",
     "text": [
      "Object is being Constructed\n",
      "Object is being Deconstructed\n"
     ]
    }
   ],
   "source": [
    "p=Person('Prasath',22)"
   ]
  },
  {
   "cell_type": "code",
   "execution_count": 17,
   "id": "294ff54e-00da-4998-9afb-7115d5e4afb5",
   "metadata": {},
   "outputs": [],
   "source": [
    "class Vector:\n",
    "    def __init__(self, x, y):\n",
    "        self.x=x\n",
    "        self.y=y\n",
    "        \n",
    "    def __add__(self, other):\n",
    "        return Vector(self.x+other.x, self.y+other.y)\n",
    "\n",
    "    def __repr__(self):\n",
    "        return \"x :{a}, y: {b}\".format(a=self.x, b=self.y)\n",
    "\n",
    "v1=Vector(10,20)\n",
    "v2=Vector(30,20)\n",
    "v3=v1+v2"
   ]
  },
  {
   "cell_type": "code",
   "execution_count": 18,
   "id": "ab428a77-a547-4fec-8e8c-0c6694bf24f1",
   "metadata": {},
   "outputs": [
    {
     "data": {
      "text/plain": [
       "x :40, y: 40"
      ]
     },
     "execution_count": 18,
     "metadata": {},
     "output_type": "execute_result"
    }
   ],
   "source": [
    "v3"
   ]
  },
  {
   "cell_type": "markdown",
   "id": "3e886779-0ce3-417e-a14a-43bf324fbbdb",
   "metadata": {},
   "source": [
    " ## Decorators"
   ]
  },
  {
   "cell_type": "code",
   "execution_count": 13,
   "id": "a319c8aa-b753-4d22-937f-20521153d0c8",
   "metadata": {},
   "outputs": [],
   "source": [
    "def myDecorator(function):\n",
    "    def wrapper(*args, **kwargs):\n",
    "        print('...Decorating your function...')\n",
    "        return function(*args, **kwargs)\n",
    "    return wrapper\n",
    "\n",
    "@myDecorator\n",
    "def helloWorld(person):\n",
    "    return 'hello world {}'.format(person)"
   ]
  },
  {
   "cell_type": "code",
   "execution_count": 14,
   "id": "9dcf724c-5220-4eb9-9719-58af15d00a40",
   "metadata": {},
   "outputs": [
    {
     "name": "stdout",
     "output_type": "stream",
     "text": [
      "...Decorating your function...\n"
     ]
    },
    {
     "data": {
      "text/plain": [
       "'hello world prasath'"
      ]
     },
     "execution_count": 14,
     "metadata": {},
     "output_type": "execute_result"
    }
   ],
   "source": [
    "helloWorld('prasath')"
   ]
  },
  {
   "cell_type": "code",
   "execution_count": 24,
   "id": "bf8230d6-cd98-43ff-8520-734c737046e3",
   "metadata": {},
   "outputs": [],
   "source": [
    "from datetime import datetime\n",
    "def logged(function):\n",
    "    def wrapper(*args, **kwargs):\n",
    "        value=function(*args, **kwargs)\n",
    "        with open('log.txt', 'a+') as f:\n",
    "            fname=function.__name__\n",
    "            f.write('{} - {} - {}\\n'.format(datetime.now(), fname, value))\n",
    "        return value\n",
    "    return wrapper\n",
    "\n",
    "@logged\n",
    "def add(a, b):\n",
    "    return a+b"
   ]
  },
  {
   "cell_type": "code",
   "execution_count": 31,
   "id": "3828c9f6-0def-4879-bd03-24ed93a61ca3",
   "metadata": {},
   "outputs": [
    {
     "data": {
      "text/plain": [
       "3"
      ]
     },
     "execution_count": 31,
     "metadata": {},
     "output_type": "execute_result"
    }
   ],
   "source": [
    "add(1,2)"
   ]
  },
  {
   "cell_type": "markdown",
   "id": "154bf2ee-fbd3-4feb-91ab-428c600b8897",
   "metadata": {},
   "source": [
    "## Factory Design Patterns"
   ]
  },
  {
   "cell_type": "code",
   "execution_count": 42,
   "id": "9f613886-12bf-47f2-a646-810c5aca1be1",
   "metadata": {},
   "outputs": [],
   "source": [
    "from abc import ABCMeta, abstractstaticmethod"
   ]
  },
  {
   "cell_type": "code",
   "execution_count": 41,
   "id": "21957852-f296-4836-93c4-c980c8c1b553",
   "metadata": {},
   "outputs": [],
   "source": [
    "class IPerson(metaclass=ABCMeta):\n",
    "    \n",
    "    @abstractstaticmethod\n",
    "    def person_method():\n",
    "        \"\"\" Interface Method \"\"\""
   ]
  },
  {
   "cell_type": "code",
   "execution_count": 45,
   "id": "92355dad-4705-463d-b3da-334f3763cb64",
   "metadata": {},
   "outputs": [
    {
     "name": "stdout",
     "output_type": "stream",
     "text": [
      "Student class\n"
     ]
    }
   ],
   "source": [
    "class Student(IPerson):\n",
    "    \n",
    "    def __init__(self, name, age):\n",
    "        self.name=name\n",
    "        self.age=age\n",
    "        \n",
    "    def person_method(self):\n",
    "        print('Student class')\n",
    "\n",
    "s1=Student('Prasath', 22)\n",
    "s1.person_method()"
   ]
  },
  {
   "cell_type": "markdown",
   "id": "dc4cb8a9-2cec-475d-a247-7030f6ed81d9",
   "metadata": {
    "jp-MarkdownHeadingCollapsed": true
   },
   "source": []
  },
  {
   "cell_type": "code",
   "execution_count": 46,
   "id": "33991572-0583-4cb6-a7bc-0c17216bf1a6",
   "metadata": {},
   "outputs": [
    {
     "name": "stdout",
     "output_type": "stream",
     "text": [
      "<module 'typing' from 'C:\\\\Users\\\\Prasath Karthiban\\\\AppData\\\\Local\\\\Programs\\\\Python\\\\Python311\\\\Lib\\\\typing.py'>\n"
     ]
    }
   ],
   "source": [
    "import typing\n",
    "\n",
    "print(typing)"
   ]
  },
  {
   "cell_type": "code",
   "execution_count": 22,
   "id": "abf60cb1-606a-4bf4-b130-eb059189b68a",
   "metadata": {},
   "outputs": [],
   "source": [
    "pattern = r'\\b([A-Z]+[0-9]+)([-+*/]([A-Z]+[0-9]+))*\\b'"
   ]
  },
  {
   "cell_type": "code",
   "execution_count": 23,
   "id": "f1336be8-cae5-4874-acc4-d5a80c1eebd2",
   "metadata": {},
   "outputs": [],
   "source": [
    "import re\n"
   ]
  },
  {
   "cell_type": "code",
   "execution_count": 28,
   "id": "459466cb-f1eb-4395-850c-dd23678aa7ef",
   "metadata": {},
   "outputs": [],
   "source": [
    "exps=['A2+B5-N34*U78/Y6', 'AA8*B22/DV21', 'O8-P2*100', '(2)']"
   ]
  },
  {
   "cell_type": "code",
   "execution_count": 29,
   "id": "bbb48b41-c5ad-41f3-ab52-7bfcdc817d5b",
   "metadata": {},
   "outputs": [
    {
     "name": "stdout",
     "output_type": "stream",
     "text": [
      "yes\n",
      "yes\n",
      "yes\n"
     ]
    }
   ],
   "source": [
    "for exp in exps:\n",
    "    if(re.match(pattern,exp)):\n",
    "        print('yes')\n"
   ]
  },
  {
   "cell_type": "code",
   "execution_count": 32,
   "id": "9e5d57a6-1fde-4f17-8290-724f8a6b148e",
   "metadata": {},
   "outputs": [
    {
     "name": "stdout",
     "output_type": "stream",
     "text": [
      "D2:D5 -> D2+D3+D4+D5\n",
      "C2:AA2 -> C2+D2+E2+F2+G2+H2+I2+J2+K2+L2+M2+N2+O2+P2+Q2+R2+S2+T2+U2+V2+W2+X2+Y2+Z2+AA2\n",
      "AA2:AA3 -> AA2+AA3\n",
      "AB2:BB2 -> AB2+AC2+AD2+AE2+AF2+AG2+AH2+AI2+AJ2+AK2+AL2+AM2+AN2+AO2+AP2+AQ2+AR2+AS2+AT2+AU2+AV2+AW2+AX2+AY2+AZ2+BA2+BB2\n"
     ]
    }
   ],
   "source": [
    "import re\n",
    "import string\n",
    "\n",
    "def generate_formula(range_str):\n",
    "    # Regular expression to match range patterns like A2:A5, B2:D2, AA2:AA3, etc.\n",
    "    pattern = r'([A-Z]+)(\\d+):([A-Z]+)(\\d+)'\n",
    "    match = re.match(pattern, range_str)\n",
    "    \n",
    "    if not match:\n",
    "        return \"Invalid range format.\"\n",
    "\n",
    "    start_col, start_row, end_col, end_row = match.groups()\n",
    "    \n",
    "    # Convert column letters to a number (e.g., A -> 1, B -> 2, ..., AA -> 27)\n",
    "    def col_to_num(col):\n",
    "        num = 0\n",
    "        for c in col:\n",
    "            num = num * 26 + (ord(c) - ord('A') + 1)\n",
    "        return num\n",
    "\n",
    "    # Convert a column number back to letters (e.g., 1 -> A, 27 -> AA)\n",
    "    def num_to_col(num):\n",
    "        col = ''\n",
    "        while num > 0:\n",
    "            num, remainder = divmod(num - 1, 26)\n",
    "            col = chr(remainder + ord('A')) + col\n",
    "        return col\n",
    "\n",
    "    start_col_num = col_to_num(start_col)\n",
    "    end_col_num = col_to_num(end_col)\n",
    "    start_row_num = int(start_row)\n",
    "    end_row_num = int(end_row)\n",
    "\n",
    "    # Check if we're working within a single row or column\n",
    "    if start_row_num == end_row_num:  # Same row\n",
    "        formula = '+'.join([f\"{num_to_col(col)}{start_row_num}\" for col in range(start_col_num, end_col_num + 1)])\n",
    "    elif start_col_num == end_col_num:  # Same column\n",
    "        formula = '+'.join([f\"{start_col}{row}\" for row in range(start_row_num, end_row_num + 1)])\n",
    "    else:\n",
    "        return \"Invalid range: ranges should be within a single row or a single column.\"\n",
    "\n",
    "    return formula\n",
    "\n",
    "# Example usage:\n",
    "ranges = [\"D2:D5\", \"C2:AA2\", \"AA2:AA3\", \"AB2:BB2\"]\n",
    "for range_str in ranges:\n",
    "    print(f\"{range_str} -> {generate_formula(range_str)}\")\n"
   ]
  },
  {
   "cell_type": "code",
   "execution_count": 1,
   "id": "1136799d-b38f-4e78-9540-d3aa240ae4c0",
   "metadata": {},
   "outputs": [
    {
     "ename": "OSError",
     "evalue": "No wkhtmltopdf executable found: \"b''\"\nIf this file exists please check that this process can read it or you can pass path to it manually in method call, check README. Otherwise please install wkhtmltopdf - https://github.com/JazzCore/python-pdfkit/wiki/Installing-wkhtmltopdf",
     "output_type": "error",
     "traceback": [
      "\u001b[1;31m---------------------------------------------------------------------------\u001b[0m",
      "\u001b[1;31mFileNotFoundError\u001b[0m                         Traceback (most recent call last)",
      "File \u001b[1;32m~\\AppData\\Local\\Programs\\Python\\Python311\\Lib\\site-packages\\pdfkit\\configuration.py:35\u001b[0m, in \u001b[0;36mConfiguration.__init__\u001b[1;34m(self, wkhtmltopdf, meta_tag_prefix, environ)\u001b[0m\n\u001b[0;32m     33\u001b[0m     \u001b[38;5;28mself\u001b[39m\u001b[38;5;241m.\u001b[39mwkhtmltopdf \u001b[38;5;241m=\u001b[39m lines[\u001b[38;5;241m0\u001b[39m]\u001b[38;5;241m.\u001b[39mstrip()\n\u001b[1;32m---> 35\u001b[0m \u001b[38;5;28;01mwith\u001b[39;00m \u001b[38;5;28;43mopen\u001b[39;49m\u001b[43m(\u001b[49m\u001b[38;5;28;43mself\u001b[39;49m\u001b[38;5;241;43m.\u001b[39;49m\u001b[43mwkhtmltopdf\u001b[49m\u001b[43m)\u001b[49m \u001b[38;5;28;01mas\u001b[39;00m f:\n\u001b[0;32m     36\u001b[0m     \u001b[38;5;28;01mpass\u001b[39;00m\n",
      "\u001b[1;31mFileNotFoundError\u001b[0m: [Errno 2] No such file or directory: b''",
      "\nDuring handling of the above exception, another exception occurred:\n",
      "\u001b[1;31mOSError\u001b[0m                                   Traceback (most recent call last)",
      "Cell \u001b[1;32mIn[1], line 19\u001b[0m\n\u001b[0;32m     16\u001b[0m     pdf_output \u001b[38;5;241m=\u001b[39m \u001b[38;5;124m'\u001b[39m\u001b[38;5;124moutput.pdf\u001b[39m\u001b[38;5;124m'\u001b[39m\n\u001b[0;32m     18\u001b[0m     \u001b[38;5;66;03m# Convert the HTML content to PDF\u001b[39;00m\n\u001b[1;32m---> 19\u001b[0m     \u001b[43mpdfkit\u001b[49m\u001b[38;5;241;43m.\u001b[39;49m\u001b[43mfrom_string\u001b[49m\u001b[43m(\u001b[49m\u001b[43mhtml_content\u001b[49m\u001b[43m,\u001b[49m\u001b[43m \u001b[49m\u001b[43mpdf_output\u001b[49m\u001b[43m)\u001b[49m\n\u001b[0;32m     21\u001b[0m     \u001b[38;5;28mprint\u001b[39m(\u001b[38;5;124mf\u001b[39m\u001b[38;5;124m\"\u001b[39m\u001b[38;5;124mPDF saved successfully as \u001b[39m\u001b[38;5;132;01m{\u001b[39;00mpdf_output\u001b[38;5;132;01m}\u001b[39;00m\u001b[38;5;124m\"\u001b[39m)\n\u001b[0;32m     22\u001b[0m \u001b[38;5;28;01melse\u001b[39;00m:\n",
      "File \u001b[1;32m~\\AppData\\Local\\Programs\\Python\\Python311\\Lib\\site-packages\\pdfkit\\api.py:72\u001b[0m, in \u001b[0;36mfrom_string\u001b[1;34m(input, output_path, options, toc, cover, css, configuration, cover_first, verbose)\u001b[0m\n\u001b[0;32m     54\u001b[0m \u001b[38;5;28;01mdef\u001b[39;00m \u001b[38;5;21mfrom_string\u001b[39m(\u001b[38;5;28minput\u001b[39m, output_path\u001b[38;5;241m=\u001b[39m\u001b[38;5;28;01mNone\u001b[39;00m, options\u001b[38;5;241m=\u001b[39m\u001b[38;5;28;01mNone\u001b[39;00m, toc\u001b[38;5;241m=\u001b[39m\u001b[38;5;28;01mNone\u001b[39;00m, cover\u001b[38;5;241m=\u001b[39m\u001b[38;5;28;01mNone\u001b[39;00m, css\u001b[38;5;241m=\u001b[39m\u001b[38;5;28;01mNone\u001b[39;00m,\n\u001b[0;32m     55\u001b[0m                 configuration\u001b[38;5;241m=\u001b[39m\u001b[38;5;28;01mNone\u001b[39;00m, cover_first\u001b[38;5;241m=\u001b[39m\u001b[38;5;28;01mFalse\u001b[39;00m, verbose\u001b[38;5;241m=\u001b[39m\u001b[38;5;28;01mFalse\u001b[39;00m):\n\u001b[0;32m     56\u001b[0m \u001b[38;5;250m    \u001b[39m\u001b[38;5;124;03m\"\"\"\u001b[39;00m\n\u001b[0;32m     57\u001b[0m \u001b[38;5;124;03m    Convert given string or strings to PDF document\u001b[39;00m\n\u001b[0;32m     58\u001b[0m \n\u001b[1;32m   (...)\u001b[0m\n\u001b[0;32m     69\u001b[0m \u001b[38;5;124;03m    Returns: True on success\u001b[39;00m\n\u001b[0;32m     70\u001b[0m \u001b[38;5;124;03m    \"\"\"\u001b[39;00m\n\u001b[1;32m---> 72\u001b[0m     r \u001b[38;5;241m=\u001b[39m \u001b[43mPDFKit\u001b[49m\u001b[43m(\u001b[49m\u001b[38;5;28;43minput\u001b[39;49m\u001b[43m,\u001b[49m\u001b[43m \u001b[49m\u001b[38;5;124;43m'\u001b[39;49m\u001b[38;5;124;43mstring\u001b[39;49m\u001b[38;5;124;43m'\u001b[39;49m\u001b[43m,\u001b[49m\u001b[43m \u001b[49m\u001b[43moptions\u001b[49m\u001b[38;5;241;43m=\u001b[39;49m\u001b[43moptions\u001b[49m\u001b[43m,\u001b[49m\u001b[43m \u001b[49m\u001b[43mtoc\u001b[49m\u001b[38;5;241;43m=\u001b[39;49m\u001b[43mtoc\u001b[49m\u001b[43m,\u001b[49m\u001b[43m \u001b[49m\u001b[43mcover\u001b[49m\u001b[38;5;241;43m=\u001b[39;49m\u001b[43mcover\u001b[49m\u001b[43m,\u001b[49m\u001b[43m \u001b[49m\u001b[43mcss\u001b[49m\u001b[38;5;241;43m=\u001b[39;49m\u001b[43mcss\u001b[49m\u001b[43m,\u001b[49m\n\u001b[0;32m     73\u001b[0m \u001b[43m               \u001b[49m\u001b[43mconfiguration\u001b[49m\u001b[38;5;241;43m=\u001b[39;49m\u001b[43mconfiguration\u001b[49m\u001b[43m,\u001b[49m\u001b[43m \u001b[49m\u001b[43mcover_first\u001b[49m\u001b[38;5;241;43m=\u001b[39;49m\u001b[43mcover_first\u001b[49m\u001b[43m,\u001b[49m\u001b[43m \u001b[49m\u001b[43mverbose\u001b[49m\u001b[38;5;241;43m=\u001b[39;49m\u001b[43mverbose\u001b[49m\u001b[43m)\u001b[49m\n\u001b[0;32m     75\u001b[0m     \u001b[38;5;28;01mreturn\u001b[39;00m r\u001b[38;5;241m.\u001b[39mto_pdf(output_path)\n",
      "File \u001b[1;32m~\\AppData\\Local\\Programs\\Python\\Python311\\Lib\\site-packages\\pdfkit\\pdfkit.py:45\u001b[0m, in \u001b[0;36mPDFKit.__init__\u001b[1;34m(self, url_or_file, type_, options, toc, cover, css, configuration, cover_first, verbose)\u001b[0m\n\u001b[0;32m     41\u001b[0m \u001b[38;5;28;01mdef\u001b[39;00m \u001b[38;5;21m__init__\u001b[39m(\u001b[38;5;28mself\u001b[39m, url_or_file, type_, options\u001b[38;5;241m=\u001b[39m\u001b[38;5;28;01mNone\u001b[39;00m, toc\u001b[38;5;241m=\u001b[39m\u001b[38;5;28;01mNone\u001b[39;00m, cover\u001b[38;5;241m=\u001b[39m\u001b[38;5;28;01mNone\u001b[39;00m,\n\u001b[0;32m     42\u001b[0m              css\u001b[38;5;241m=\u001b[39m\u001b[38;5;28;01mNone\u001b[39;00m, configuration\u001b[38;5;241m=\u001b[39m\u001b[38;5;28;01mNone\u001b[39;00m, cover_first\u001b[38;5;241m=\u001b[39m\u001b[38;5;28;01mFalse\u001b[39;00m, verbose\u001b[38;5;241m=\u001b[39m\u001b[38;5;28;01mFalse\u001b[39;00m):\n\u001b[0;32m     44\u001b[0m     \u001b[38;5;28mself\u001b[39m\u001b[38;5;241m.\u001b[39msource \u001b[38;5;241m=\u001b[39m Source(url_or_file, type_)\n\u001b[1;32m---> 45\u001b[0m     \u001b[38;5;28mself\u001b[39m\u001b[38;5;241m.\u001b[39mconfiguration \u001b[38;5;241m=\u001b[39m (\u001b[43mConfiguration\u001b[49m\u001b[43m(\u001b[49m\u001b[43m)\u001b[49m \u001b[38;5;28;01mif\u001b[39;00m configuration \u001b[38;5;129;01mis\u001b[39;00m \u001b[38;5;28;01mNone\u001b[39;00m\n\u001b[0;32m     46\u001b[0m                           \u001b[38;5;28;01melse\u001b[39;00m configuration)\n\u001b[0;32m     47\u001b[0m     \u001b[38;5;28;01mtry\u001b[39;00m:\n\u001b[0;32m     48\u001b[0m         \u001b[38;5;28mself\u001b[39m\u001b[38;5;241m.\u001b[39mwkhtmltopdf \u001b[38;5;241m=\u001b[39m \u001b[38;5;28mself\u001b[39m\u001b[38;5;241m.\u001b[39mconfiguration\u001b[38;5;241m.\u001b[39mwkhtmltopdf\u001b[38;5;241m.\u001b[39mdecode(\u001b[38;5;124m'\u001b[39m\u001b[38;5;124mutf-8\u001b[39m\u001b[38;5;124m'\u001b[39m)\n",
      "File \u001b[1;32m~\\AppData\\Local\\Programs\\Python\\Python311\\Lib\\site-packages\\pdfkit\\configuration.py:38\u001b[0m, in \u001b[0;36mConfiguration.__init__\u001b[1;34m(self, wkhtmltopdf, meta_tag_prefix, environ)\u001b[0m\n\u001b[0;32m     36\u001b[0m         \u001b[38;5;28;01mpass\u001b[39;00m\n\u001b[0;32m     37\u001b[0m \u001b[38;5;28;01mexcept\u001b[39;00m (\u001b[38;5;167;01mIOError\u001b[39;00m, \u001b[38;5;167;01mFileNotFoundError\u001b[39;00m) \u001b[38;5;28;01mas\u001b[39;00m e:\n\u001b[1;32m---> 38\u001b[0m     \u001b[38;5;28;01mraise\u001b[39;00m \u001b[38;5;167;01mIOError\u001b[39;00m(\u001b[38;5;124m'\u001b[39m\u001b[38;5;124mNo wkhtmltopdf executable found: \u001b[39m\u001b[38;5;124m\"\u001b[39m\u001b[38;5;132;01m%s\u001b[39;00m\u001b[38;5;124m\"\u001b[39m\u001b[38;5;130;01m\\n\u001b[39;00m\u001b[38;5;124m'\u001b[39m\n\u001b[0;32m     39\u001b[0m                   \u001b[38;5;124m'\u001b[39m\u001b[38;5;124mIf this file exists please check that this process can \u001b[39m\u001b[38;5;124m'\u001b[39m\n\u001b[0;32m     40\u001b[0m                   \u001b[38;5;124m'\u001b[39m\u001b[38;5;124mread it or you can pass path to it manually in method call, \u001b[39m\u001b[38;5;124m'\u001b[39m\n\u001b[0;32m     41\u001b[0m                   \u001b[38;5;124m'\u001b[39m\u001b[38;5;124mcheck README. Otherwise please install wkhtmltopdf - \u001b[39m\u001b[38;5;124m'\u001b[39m\n\u001b[0;32m     42\u001b[0m                   \u001b[38;5;124m'\u001b[39m\u001b[38;5;124mhttps://github.com/JazzCore/python-pdfkit/wiki/Installing-wkhtmltopdf\u001b[39m\u001b[38;5;124m'\u001b[39m \u001b[38;5;241m%\u001b[39m \u001b[38;5;28mself\u001b[39m\u001b[38;5;241m.\u001b[39mwkhtmltopdf)\n\u001b[0;32m     45\u001b[0m \u001b[38;5;28mself\u001b[39m\u001b[38;5;241m.\u001b[39menviron \u001b[38;5;241m=\u001b[39m environ\n\u001b[0;32m     47\u001b[0m \u001b[38;5;28;01mif\u001b[39;00m \u001b[38;5;129;01mnot\u001b[39;00m \u001b[38;5;28mself\u001b[39m\u001b[38;5;241m.\u001b[39menviron:\n",
      "\u001b[1;31mOSError\u001b[0m: No wkhtmltopdf executable found: \"b''\"\nIf this file exists please check that this process can read it or you can pass path to it manually in method call, check README. Otherwise please install wkhtmltopdf - https://github.com/JazzCore/python-pdfkit/wiki/Installing-wkhtmltopdf"
     ]
    }
   ],
   "source": [
    "import requests\n",
    "import pdfkit\n",
    "\n",
    "# URL of the page you want to download\n",
    "url = 'https://chapmanganelo.com/manga-ow129390/chapter-2'\n",
    "\n",
    "# Fetch the page content\n",
    "response = requests.get(url)\n",
    "\n",
    "# Check if the request was successful\n",
    "if response.status_code == 200:\n",
    "    # Save the HTML content\n",
    "    html_content = response.text\n",
    "    \n",
    "    # Specify output PDF file path\n",
    "    pdf_output = 'output.pdf'\n",
    "\n",
    "    # Convert the HTML content to PDF\n",
    "    pdfkit.from_string(html_content, pdf_output)\n",
    "\n",
    "    print(f\"PDF saved successfully as {pdf_output}\")\n",
    "else:\n",
    "    print(f\"Failed to retrieve the page. Status code: {response.status_code}\")\n"
   ]
  }
 ],
 "metadata": {
  "kernelspec": {
   "display_name": "Python 3 (ipykernel)",
   "language": "python",
   "name": "python3"
  },
  "language_info": {
   "codemirror_mode": {
    "name": "ipython",
    "version": 3
   },
   "file_extension": ".py",
   "mimetype": "text/x-python",
   "name": "python",
   "nbconvert_exporter": "python",
   "pygments_lexer": "ipython3",
   "version": "3.11.4"
  }
 },
 "nbformat": 4,
 "nbformat_minor": 5
}
