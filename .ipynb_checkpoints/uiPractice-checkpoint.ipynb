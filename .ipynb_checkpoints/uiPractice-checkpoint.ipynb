{
 "cells": [
  {
   "cell_type": "code",
   "execution_count": 3,
   "id": "71787fac-9fc5-40d5-90a1-1e4a0913907c",
   "metadata": {},
   "outputs": [],
   "source": [
    "import ipywidgets as widgets"
   ]
  },
  {
   "cell_type": "code",
   "execution_count": 6,
   "id": "9684e8cf-fb52-49b4-8760-cfac654b1955",
   "metadata": {},
   "outputs": [
    {
     "data": {
      "text/plain": [
       "'8.1.2'"
      ]
     },
     "execution_count": 6,
     "metadata": {},
     "output_type": "execute_result"
    }
   ],
   "source": [
    "widgets.__version__"
   ]
  },
  {
   "cell_type": "code",
   "execution_count": 7,
   "id": "df88d8b3-b8f5-4558-a6fe-8b4910c29532",
   "metadata": {},
   "outputs": [],
   "source": [
    "def square(x):\n",
    "    return x*x"
   ]
  },
  {
   "cell_type": "code",
   "execution_count": 9,
   "id": "b45de628-4c90-472e-bad6-de4e9ed598f2",
   "metadata": {},
   "outputs": [
    {
     "data": {
      "application/vnd.jupyter.widget-view+json": {
       "model_id": "fa5348754d7442e9afceb1e660cae9af",
       "version_major": 2,
       "version_minor": 0
      },
      "text/plain": [
       "interactive(children=(IntSlider(value=4, description='x', max=12, min=-4), Output()), _dom_classes=('widget-in…"
      ]
     },
     "metadata": {},
     "output_type": "display_data"
    },
    {
     "data": {
      "text/plain": [
       "<function __main__.square(x)>"
      ]
     },
     "execution_count": 9,
     "metadata": {},
     "output_type": "execute_result"
    }
   ],
   "source": [
    "widgets.interact(square, x=4)"
   ]
  },
  {
   "cell_type": "code",
   "execution_count": 10,
   "id": "43635fcd-456d-431b-9935-1eb1abf9908f",
   "metadata": {},
   "outputs": [
    {
     "data": {
      "application/vnd.jupyter.widget-view+json": {
       "model_id": "a4333dd7c86346a6b69ccfccc1a4ec84",
       "version_major": 2,
       "version_minor": 0
      },
      "text/plain": [
       "HTML(value='<h2>User Profile Form</h2>')"
      ]
     },
     "metadata": {},
     "output_type": "display_data"
    },
    {
     "data": {
      "application/vnd.jupyter.widget-view+json": {
       "model_id": "7f68e95a0e2c465c9198f171d6b33c35",
       "version_major": 2,
       "version_minor": 0
      },
      "text/plain": [
       "Text(value='', description='Name:', placeholder='Enter your name')"
      ]
     },
     "metadata": {},
     "output_type": "display_data"
    },
    {
     "data": {
      "application/vnd.jupyter.widget-view+json": {
       "model_id": "1e9394d0b6c140ae96ff5238a2af1d8f",
       "version_major": 2,
       "version_minor": 0
      },
      "text/plain": [
       "Textarea(value='', description='Address:', placeholder='Enter your address')"
      ]
     },
     "metadata": {},
     "output_type": "display_data"
    },
    {
     "data": {
      "application/vnd.jupyter.widget-view+json": {
       "model_id": "ade80824eafa4cb8981b990be27ac173",
       "version_major": 2,
       "version_minor": 0
      },
      "text/plain": [
       "Password(description='Password:', placeholder='Enter a password')"
      ]
     },
     "metadata": {},
     "output_type": "display_data"
    },
    {
     "data": {
      "application/vnd.jupyter.widget-view+json": {
       "model_id": "4c6c56d34f804d1781cacdfab51345fd",
       "version_major": 2,
       "version_minor": 0
      },
      "text/plain": [
       "DatePicker(value=None, description='Date of Birth:', step=1)"
      ]
     },
     "metadata": {},
     "output_type": "display_data"
    },
    {
     "data": {
      "application/vnd.jupyter.widget-view+json": {
       "model_id": "062a9dfdd97946069760a6f38eb3dff0",
       "version_major": 2,
       "version_minor": 0
      },
      "text/plain": [
       "ColorPicker(value='blue', description='Favorite Color:')"
      ]
     },
     "metadata": {},
     "output_type": "display_data"
    },
    {
     "data": {
      "application/vnd.jupyter.widget-view+json": {
       "model_id": "07572b4e58924d6a90f2661a44a4d9cc",
       "version_major": 2,
       "version_minor": 0
      },
      "text/plain": [
       "Dropdown(description='Gender:', options=('Male', 'Female', 'Other'), value=None)"
      ]
     },
     "metadata": {},
     "output_type": "display_data"
    },
    {
     "data": {
      "application/vnd.jupyter.widget-view+json": {
       "model_id": "947d321b7f35400397dd8858b9bedff6",
       "version_major": 2,
       "version_minor": 0
      },
      "text/plain": [
       "Checkbox(value=False, description='Subscribe to Newsletter')"
      ]
     },
     "metadata": {},
     "output_type": "display_data"
    },
    {
     "data": {
      "application/vnd.jupyter.widget-view+json": {
       "model_id": "9f71e2bb0e524b3a9b02d48620f4cc08",
       "version_major": 2,
       "version_minor": 0
      },
      "text/plain": [
       "RadioButtons(description='Preferred Contact:', options=('Email', 'Phone', 'Mail'), value='Email')"
      ]
     },
     "metadata": {},
     "output_type": "display_data"
    },
    {
     "data": {
      "application/vnd.jupyter.widget-view+json": {
       "model_id": "dd30f38ef014465e8608ed9372f7fca2",
       "version_major": 2,
       "version_minor": 0
      },
      "text/plain": [
       "IntSlider(value=25, description='Age:', min=10)"
      ]
     },
     "metadata": {},
     "output_type": "display_data"
    },
    {
     "data": {
      "application/vnd.jupyter.widget-view+json": {
       "model_id": "93f766038938412a8e642434904f3293",
       "version_major": 2,
       "version_minor": 0
      },
      "text/plain": [
       "FileUpload(value=(), accept='.jpg, .png', description='Upload')"
      ]
     },
     "metadata": {},
     "output_type": "display_data"
    },
    {
     "data": {
      "application/vnd.jupyter.widget-view+json": {
       "model_id": "7d3fe64eac1a4fbbacda054c6913328d",
       "version_major": 2,
       "version_minor": 0
      },
      "text/plain": [
       "ToggleButton(value=False, button_style='info', description='I accept the Terms and Conditions')"
      ]
     },
     "metadata": {},
     "output_type": "display_data"
    },
    {
     "data": {
      "application/vnd.jupyter.widget-view+json": {
       "model_id": "c72a62fd2f9f4f508a9fc3d57fe71dbb",
       "version_major": 2,
       "version_minor": 0
      },
      "text/plain": [
       "Button(button_style='success', description='Submit', style=ButtonStyle())"
      ]
     },
     "metadata": {},
     "output_type": "display_data"
    },
    {
     "data": {
      "application/vnd.jupyter.widget-view+json": {
       "model_id": "65026ddcf9934b2a85a588e7ca6add0d",
       "version_major": 2,
       "version_minor": 0
      },
      "text/plain": [
       "Output()"
      ]
     },
     "metadata": {},
     "output_type": "display_data"
    }
   ],
   "source": [
    "# Importing required libraries\n",
    "import ipywidgets as widgets\n",
    "from IPython.display import display, clear_output\n",
    "from datetime import date\n",
    "\n",
    "# Title for the form\n",
    "title = widgets.HTML(value=\"<h2>User Profile Form</h2>\")\n",
    "display(title)\n",
    "\n",
    "# Text widget for Name\n",
    "name = widgets.Text(\n",
    "    value='',\n",
    "    placeholder='Enter your name',\n",
    "    description='Name:',\n",
    "    disabled=False\n",
    ")\n",
    "display(name)\n",
    "\n",
    "# Textarea for Address\n",
    "address = widgets.Textarea(\n",
    "    value='',\n",
    "    placeholder='Enter your address',\n",
    "    description='Address:',\n",
    "    disabled=False\n",
    ")\n",
    "display(address)\n",
    "\n",
    "# Password widget for password input\n",
    "password = widgets.Password(\n",
    "    value='',\n",
    "    placeholder='Enter a password',\n",
    "    description='Password:'\n",
    ")\n",
    "display(password)\n",
    "\n",
    "# DatePicker for selecting date of birth\n",
    "dob = widgets.DatePicker(\n",
    "    description='Date of Birth:',\n",
    "    disabled=False\n",
    ")\n",
    "display(dob)\n",
    "\n",
    "# ColorPicker for selecting a favorite color\n",
    "color = widgets.ColorPicker(\n",
    "    value='blue',\n",
    "    description='Favorite Color:'\n",
    ")\n",
    "display(color)\n",
    "\n",
    "# Dropdown for Gender selection\n",
    "gender = widgets.Dropdown(\n",
    "    options=['Male', 'Female', 'Other'],\n",
    "    value=None,\n",
    "    description='Gender:'\n",
    ")\n",
    "display(gender)\n",
    "\n",
    "# Checkbox for subscription to newsletter\n",
    "newsletter = widgets.Checkbox(\n",
    "    value=False,\n",
    "    description='Subscribe to Newsletter',\n",
    "    disabled=False\n",
    ")\n",
    "display(newsletter)\n",
    "\n",
    "# Radio buttons for preferred contact method\n",
    "contact_method = widgets.RadioButtons(\n",
    "    options=['Email', 'Phone', 'Mail'],\n",
    "    description='Preferred Contact:',\n",
    ")\n",
    "display(contact_method)\n",
    "\n",
    "# Integer slider for setting age (just as an example of using a slider)\n",
    "age_slider = widgets.IntSlider(\n",
    "    value=25,\n",
    "    min=10,\n",
    "    max=100,\n",
    "    step=1,\n",
    "    description='Age:'\n",
    ")\n",
    "display(age_slider)\n",
    "\n",
    "# File upload widget for profile picture upload\n",
    "profile_picture = widgets.FileUpload(\n",
    "    accept='.jpg, .png',  # Accept only JPEG and PNG files\n",
    "    multiple=False  # Single file upload\n",
    ")\n",
    "display(profile_picture)\n",
    "\n",
    "# ToggleButton for terms and conditions acceptance\n",
    "terms_and_conditions = widgets.ToggleButton(\n",
    "    value=False,\n",
    "    description='I accept the Terms and Conditions',\n",
    "    disabled=False,\n",
    "    button_style='info'\n",
    ")\n",
    "display(terms_and_conditions)\n",
    "\n",
    "# Submit Button\n",
    "submit_button = widgets.Button(\n",
    "    description=\"Submit\",\n",
    "    button_style='success'\n",
    ")\n",
    "\n",
    "# Output area for displaying submission results\n",
    "output = widgets.Output()\n",
    "\n",
    "# Function to handle button click\n",
    "def on_submit_button_clicked(b):\n",
    "    with output:\n",
    "        clear_output()  # Clear previous output\n",
    "        # Check if terms are accepted\n",
    "        if not terms_and_conditions.value:\n",
    "            print(\"Please accept the Terms and Conditions to submit the form.\")\n",
    "        else:\n",
    "            # Display submitted information\n",
    "            print(f\"--- User Profile ---\")\n",
    "            print(f\"Name: {name.value}\")\n",
    "            print(f\"Address: {address.value}\")\n",
    "            print(f\"Date of Birth: {dob.value}\")\n",
    "            print(f\"Favorite Color: {color.value}\")\n",
    "            print(f\"Gender: {gender.value}\")\n",
    "            print(f\"Subscribed to Newsletter: {newsletter.value}\")\n",
    "            print(f\"Preferred Contact Method: {contact_method.value}\")\n",
    "            print(f\"Age: {age_slider.value}\")\n",
    "            # Display if a profile picture was uploaded\n",
    "            if profile_picture.value:\n",
    "                print(f\"Profile Picture uploaded.\")\n",
    "            else:\n",
    "                print(\"No profile picture uploaded.\")\n",
    "            print(\"Form submitted successfully!\")\n",
    "\n",
    "# Attach click event to the submit button\n",
    "submit_button.on_click(on_submit_button_clicked)\n",
    "\n",
    "# Display submit button and output area\n",
    "display(submit_button, output)\n"
   ]
  },
  {
   "cell_type": "code",
   "execution_count": 11,
   "id": "76074c6b-a228-425c-b38d-fc1915b1e2c3",
   "metadata": {},
   "outputs": [
    {
     "data": {
      "application/vnd.jupyter.widget-view+json": {
       "model_id": "eaf3448aaf7b4f4b8c4d5c288bda31f4",
       "version_major": 2,
       "version_minor": 0
      },
      "text/plain": [
       "HTML(value='<h2>User Profile Settings</h2>')"
      ]
     },
     "metadata": {},
     "output_type": "display_data"
    },
    {
     "data": {
      "application/vnd.jupyter.widget-view+json": {
       "model_id": "8e5e1274f9e74692aede1641ad93f58d",
       "version_major": 2,
       "version_minor": 0
      },
      "text/plain": [
       "HTML(value='<h3>Basic Information</h3>')"
      ]
     },
     "metadata": {},
     "output_type": "display_data"
    },
    {
     "data": {
      "application/vnd.jupyter.widget-view+json": {
       "model_id": "519e3207819e4cc2aa1f9eebdb9dab5a",
       "version_major": 2,
       "version_minor": 0
      },
      "text/plain": [
       "VBox(children=(HBox(children=(Text(value='', description='First Name:'), Text(value='', description='Last Name…"
      ]
     },
     "metadata": {},
     "output_type": "display_data"
    },
    {
     "data": {
      "application/vnd.jupyter.widget-view+json": {
       "model_id": "d8e3e261f80a4e84a52361b68aeb4acf",
       "version_major": 2,
       "version_minor": 0
      },
      "text/plain": [
       "HTML(value='<h3>Preferences</h3>')"
      ]
     },
     "metadata": {},
     "output_type": "display_data"
    },
    {
     "data": {
      "application/vnd.jupyter.widget-view+json": {
       "model_id": "1749a26f539c42a88bfd00b19a421bd8",
       "version_major": 2,
       "version_minor": 0
      },
      "text/plain": [
       "Accordion(children=(VBox(children=(Dropdown(description='Theme:', options=('Light', 'Dark', 'System Default'),…"
      ]
     },
     "metadata": {},
     "output_type": "display_data"
    },
    {
     "data": {
      "application/vnd.jupyter.widget-view+json": {
       "model_id": "0645b3f82c6b45a4be9a0b22a0c8148a",
       "version_major": 2,
       "version_minor": 0
      },
      "text/plain": [
       "HTML(value='<h3>Account Settings</h3>')"
      ]
     },
     "metadata": {},
     "output_type": "display_data"
    },
    {
     "data": {
      "application/vnd.jupyter.widget-view+json": {
       "model_id": "fea48bcf6a244097be84adbeabd1c6ff",
       "version_major": 2,
       "version_minor": 0
      },
      "text/plain": [
       "Tab(children=(VBox(children=(Password(description='Password:'), Password(description='Confirm Password:'))), V…"
      ]
     },
     "metadata": {},
     "output_type": "display_data"
    },
    {
     "data": {
      "application/vnd.jupyter.widget-view+json": {
       "model_id": "1b3d009227314904b11dc3817705f6f2",
       "version_major": 2,
       "version_minor": 0
      },
      "text/plain": [
       "Button(button_style='success', description='Save Settings', style=ButtonStyle())"
      ]
     },
     "metadata": {},
     "output_type": "display_data"
    },
    {
     "data": {
      "application/vnd.jupyter.widget-view+json": {
       "model_id": "661503a238e14125a204115c0f0d843c",
       "version_major": 2,
       "version_minor": 0
      },
      "text/plain": [
       "Output()"
      ]
     },
     "metadata": {},
     "output_type": "display_data"
    }
   ],
   "source": [
    "import ipywidgets as widgets\n",
    "from IPython.display import display\n",
    "\n",
    "# Title for the interface\n",
    "title = widgets.HTML(value=\"<h2>User Profile Settings</h2>\")\n",
    "display(title)\n",
    "\n",
    "# --- Section 1: Basic Info (Using HBox and VBox) ---\n",
    "# Widgets for Basic Info\n",
    "first_name = widgets.Text(description=\"First Name:\")\n",
    "last_name = widgets.Text(description=\"Last Name:\")\n",
    "dob = widgets.DatePicker(description=\"Birth Date:\")\n",
    "\n",
    "# Arrange first and last name horizontally using HBox\n",
    "name_box = widgets.HBox([first_name, last_name])\n",
    "\n",
    "# Arrange name and date of birth vertically using VBox\n",
    "basic_info = widgets.VBox([name_box, dob])\n",
    "basic_info_title = widgets.HTML(value=\"<h3>Basic Information</h3>\")\n",
    "\n",
    "# Display Basic Info section\n",
    "display(basic_info_title, basic_info)\n",
    "\n",
    "# --- Section 2: Preferences (Using Accordion) ---\n",
    "# Widgets for Preferences\n",
    "theme = widgets.Dropdown(\n",
    "    options=['Light', 'Dark', 'System Default'],\n",
    "    description=\"Theme:\"\n",
    ")\n",
    "notifications = widgets.Checkbox(value=True, description=\"Email Notifications\")\n",
    "color = widgets.ColorPicker(description=\"Profile Color:\")\n",
    "\n",
    "# Arrange theme, notifications, and color picker in a VBox for layout\n",
    "preferences_content = widgets.VBox([theme, notifications, color])\n",
    "\n",
    "# Add to an Accordion container\n",
    "preferences = widgets.Accordion(children=[preferences_content])\n",
    "preferences.set_title(0, 'Preferences')\n",
    "preferences_title = widgets.HTML(value=\"<h3>Preferences</h3>\")\n",
    "\n",
    "# Display Preferences section\n",
    "display(preferences_title, preferences)\n",
    "\n",
    "# --- Section 3: Account Settings (Using Tab) ---\n",
    "# Widgets for Account Settings\n",
    "password = widgets.Password(description=\"Password:\")\n",
    "confirm_password = widgets.Password(description=\"Confirm Password:\")\n",
    "profile_picture = widgets.FileUpload(accept='.jpg, .png', description=\"Profile Picture\")\n",
    "\n",
    "# Tab 1: Change Password\n",
    "change_password_tab = widgets.VBox([password, confirm_password])\n",
    "\n",
    "# Tab 2: Upload Profile Picture\n",
    "upload_picture_tab = widgets.VBox([profile_picture])\n",
    "\n",
    "# Create a Tab container and add tabs\n",
    "account_settings = widgets.Tab()\n",
    "account_settings.children = [change_password_tab, upload_picture_tab]\n",
    "account_settings.set_title(0, 'Change Password')\n",
    "account_settings.set_title(1, 'Profile Picture')\n",
    "account_settings_title = widgets.HTML(value=\"<h3>Account Settings</h3>\")\n",
    "\n",
    "# Display Account Settings section\n",
    "display(account_settings_title, account_settings)\n",
    "\n",
    "# --- Submit Button ---\n",
    "submit_button = widgets.Button(description=\"Save Settings\", button_style=\"success\")\n",
    "output = widgets.Output()\n",
    "\n",
    "# Handle button click event\n",
    "def on_submit_button_clicked(b):\n",
    "    with output:\n",
    "        output.clear_output()  # Clear previous output\n",
    "        print(\"Settings have been saved successfully!\")\n",
    "\n",
    "# Bind the click event to the function\n",
    "submit_button.on_click(on_submit_button_clicked)\n",
    "\n",
    "# Display the submit button and output area\n",
    "display(submit_button, output)\n"
   ]
  },
  {
   "cell_type": "code",
   "execution_count": 15,
   "id": "22346dde-5e79-4fac-8903-e11d7c3eb5ba",
   "metadata": {},
   "outputs": [
    {
     "data": {
      "application/vnd.jupyter.widget-view+json": {
       "model_id": "1746f7d5c7fc459ab80dbad805768155",
       "version_major": 2,
       "version_minor": 0
      },
      "text/plain": [
       "HTML(value='<h2>User Account Form</h2>')"
      ]
     },
     "metadata": {},
     "output_type": "display_data"
    },
    {
     "data": {
      "application/vnd.jupyter.widget-view+json": {
       "model_id": "d0de480ad5004b4b860098aec42af12c",
       "version_major": 2,
       "version_minor": 0
      },
      "text/plain": [
       "Dropdown(description='Account Type:', options=('Select Account Type', 'Personal', 'Business'), value='Select A…"
      ]
     },
     "metadata": {},
     "output_type": "display_data"
    },
    {
     "data": {
      "application/vnd.jupyter.widget-view+json": {
       "model_id": "abde8f8e6c1940e4bc4241c5fbe74c38",
       "version_major": 2,
       "version_minor": 0
      },
      "text/plain": [
       "VBox()"
      ]
     },
     "metadata": {},
     "output_type": "display_data"
    },
    {
     "data": {
      "application/vnd.jupyter.widget-view+json": {
       "model_id": "cbd4fb45274943f58624c246264f2d6c",
       "version_major": 2,
       "version_minor": 0
      },
      "text/plain": [
       "Button(button_style='success', description='Submit', style=ButtonStyle())"
      ]
     },
     "metadata": {},
     "output_type": "display_data"
    },
    {
     "data": {
      "application/vnd.jupyter.widget-view+json": {
       "model_id": "730b547925854dee886ce45605d08b0e",
       "version_major": 2,
       "version_minor": 0
      },
      "text/plain": [
       "Button(button_style='danger', description='Clear Output', style=ButtonStyle())"
      ]
     },
     "metadata": {},
     "output_type": "display_data"
    },
    {
     "data": {
      "application/vnd.jupyter.widget-view+json": {
       "model_id": "ed2c5b3fcf774e1fba6308340bb15c8f",
       "version_major": 2,
       "version_minor": 0
      },
      "text/plain": [
       "Output()"
      ]
     },
     "metadata": {},
     "output_type": "display_data"
    }
   ],
   "source": [
    "import ipywidgets as widgets\n",
    "from IPython.display import display, clear_output\n",
    "\n",
    "# Title for the interface\n",
    "title = widgets.HTML(value=\"<h2>User Account Form</h2>\")\n",
    "display(title)\n",
    "\n",
    "# Dropdown to select account type\n",
    "account_type = widgets.Dropdown(\n",
    "    options=['Select Account Type', 'Personal', 'Business'],\n",
    "    description='Account Type:'\n",
    ")\n",
    "display(account_type)\n",
    "\n",
    "# Widgets for Personal Account Type\n",
    "personal_name = widgets.Text(description=\"Full Name:\")\n",
    "personal_age = widgets.IntSlider(value=25, min=10, max=100, description=\"Age:\")\n",
    "\n",
    "# Widgets for Business Account Type\n",
    "business_name = widgets.Text(description=\"Business Name:\")\n",
    "business_employee_count = widgets.IntSlider(value=10, min=1, max=1000, description=\"Employees:\")\n",
    "\n",
    "# Container for dynamically changing fields\n",
    "dynamic_fields = widgets.VBox([])\n",
    "\n",
    "# Submit and Clear Output buttons\n",
    "submit_button = widgets.Button(description=\"Submit\", button_style=\"success\")\n",
    "clear_button = widgets.Button(description=\"Clear Output\", button_style=\"danger\")\n",
    "\n",
    "# Output area for displaying results\n",
    "output = widgets.Output()\n",
    "\n",
    "# Function to update dynamic fields based on dropdown selection\n",
    "def on_account_type_change(change):\n",
    "    # Clear the current dynamic fields\n",
    "    dynamic_fields.children = []\n",
    "    # Show relevant fields based on the dropdown value\n",
    "    if change['new'] == 'Personal':\n",
    "        dynamic_fields.children = [personal_name, personal_age]\n",
    "    elif change['new'] == 'Business':\n",
    "        dynamic_fields.children = [business_name, business_employee_count]\n",
    "\n",
    "# Attach the function to the dropdown\n",
    "account_type.observe(on_account_type_change, names='value')\n",
    "\n",
    "# Function to handle submit button click\n",
    "def on_submit_button_clicked(b):\n",
    "    with output:\n",
    "        clear_output()  # Clear previous output\n",
    "        print(\"Form Submitted!\")\n",
    "        print(f\"Account Type: {account_type.value}\")\n",
    "        if account_type.value == 'Personal':\n",
    "            print(f\"Full Name: {personal_name.value}\")\n",
    "            print(f\"Age: {personal_age.value}\")\n",
    "        elif account_type.value == 'Business':\n",
    "            print(f\"Business Name: {business_name.value}\")\n",
    "            print(f\"Employees: {business_employee_count.value}\")\n",
    "\n",
    "# Function to handle clear button click\n",
    "def on_clear_button_clicked(b):\n",
    "    with output:\n",
    "        clear_output()  # Clear the output area\n",
    "        print(\"Output cleared.\")\n",
    "\n",
    "# Attach the click event functions to the buttons\n",
    "submit_button.on_click(on_submit_button_clicked)\n",
    "clear_button.on_click(on_clear_button_clicked)\n",
    "\n",
    "# Display dynamic fields container, buttons, and output area\n",
    "display(dynamic_fields, submit_button, clear_button, output)\n"
   ]
  },
  {
   "cell_type": "code",
   "execution_count": 13,
   "id": "fb52bfcf-ece8-4d94-89b0-011a53511d08",
   "metadata": {},
   "outputs": [
    {
     "data": {
      "application/vnd.jupyter.widget-view+json": {
       "model_id": "5a0e587c4c674b05b95bd0a75f03ec2e",
       "version_major": 2,
       "version_minor": 0
      },
      "text/plain": [
       "HTML(value='<h2>User Account Form</h2>')"
      ]
     },
     "metadata": {},
     "output_type": "display_data"
    },
    {
     "data": {
      "application/vnd.jupyter.widget-view+json": {
       "model_id": "66885b85164745be8ea63294bee2cc70",
       "version_major": 2,
       "version_minor": 0
      },
      "text/plain": [
       "Dropdown(description='Account Type:', options=('Select Account Type', 'Personal', 'Business'), value='Select A…"
      ]
     },
     "metadata": {},
     "output_type": "display_data"
    },
    {
     "data": {
      "application/vnd.jupyter.widget-view+json": {
       "model_id": "d9c1188f8e3a4ce2a8c91357541c6ec8",
       "version_major": 2,
       "version_minor": 0
      },
      "text/plain": [
       "VBox()"
      ]
     },
     "metadata": {},
     "output_type": "display_data"
    },
    {
     "data": {
      "application/vnd.jupyter.widget-view+json": {
       "model_id": "4e9b9bf3777740d4a64b5c6baf66d129",
       "version_major": 2,
       "version_minor": 0
      },
      "text/plain": [
       "Button(button_style='success', description='Submit', style=ButtonStyle())"
      ]
     },
     "metadata": {},
     "output_type": "display_data"
    },
    {
     "data": {
      "application/vnd.jupyter.widget-view+json": {
       "model_id": "6093fe80acec43e2af7b01d19404fe89",
       "version_major": 2,
       "version_minor": 0
      },
      "text/plain": [
       "Button(button_style='danger', description='Clear Output', style=ButtonStyle())"
      ]
     },
     "metadata": {},
     "output_type": "display_data"
    },
    {
     "data": {
      "application/vnd.jupyter.widget-view+json": {
       "model_id": "4d2aca4e930a43edb802b791fc93e9d8",
       "version_major": 2,
       "version_minor": 0
      },
      "text/plain": [
       "Output()"
      ]
     },
     "metadata": {},
     "output_type": "display_data"
    }
   ],
   "source": [
    "import ipywidgets as widgets\n",
    "from IPython.display import display, clear_output\n",
    "\n",
    "# Title for the interface\n",
    "title = widgets.HTML(value=\"<h2>User Account Form</h2>\")\n",
    "display(title)\n",
    "\n",
    "# Dropdown to select account type\n",
    "account_type = widgets.Dropdown(\n",
    "    options=['Select Account Type', 'Personal', 'Business'],\n",
    "    description='Account Type:'\n",
    ")\n",
    "display(account_type)\n",
    "\n",
    "# Widgets for Personal Account Type\n",
    "personal_name = widgets.Text(description=\"Full Name:\")\n",
    "personal_age = widgets.IntSlider(value=25, min=10, max=100, description=\"Age:\")\n",
    "personal_email = widgets.Text(description=\"Email:\")\n",
    "personal_phone = widgets.Text(description=\"Phone:\")\n",
    "personal_address = widgets.Textarea(description=\"Address:\")\n",
    "personal_newsletter = widgets.Checkbox(value=True, description=\"Subscribe to Newsletter\")\n",
    "\n",
    "# Widgets for Business Account Type\n",
    "business_name = widgets.Text(description=\"Business Name:\")\n",
    "business_employee_count = widgets.IntSlider(value=10, min=1, max=1000, description=\"Employees:\")\n",
    "business_contact_person = widgets.Text(description=\"Contact Person:\")\n",
    "business_email = widgets.Text(description=\"Business Email:\")\n",
    "business_phone = widgets.Text(description=\"Contact Phone:\")\n",
    "business_website = widgets.Text(description=\"Website:\")\n",
    "business_marketing_opt_in = widgets.Checkbox(value=True, description=\"Opt-in for Marketing\")\n",
    "\n",
    "# Container for dynamically changing fields\n",
    "dynamic_fields = widgets.VBox([])\n",
    "\n",
    "# Submit and Clear Output buttons\n",
    "submit_button = widgets.Button(description=\"Submit\", button_style=\"success\")\n",
    "clear_button = widgets.Button(description=\"Clear Output\", button_style=\"danger\")\n",
    "\n",
    "# Output area for displaying results\n",
    "output = widgets.Output()\n",
    "\n",
    "# Function to update dynamic fields based on dropdown selection\n",
    "def on_account_type_change(change):\n",
    "    # Clear the current dynamic fields\n",
    "    dynamic_fields.children = []\n",
    "    # Show relevant fields based on the dropdown value\n",
    "    if change['new'] == 'Personal':\n",
    "        dynamic_fields.children = [\n",
    "            personal_name, personal_age, personal_email, personal_phone,\n",
    "            personal_address, personal_newsletter\n",
    "        ]\n",
    "    elif change['new'] == 'Business':\n",
    "        dynamic_fields.children = [\n",
    "            business_name, business_employee_count, business_contact_person,\n",
    "            business_email, business_phone, business_website, business_marketing_opt_in\n",
    "        ]\n",
    "\n",
    "# Attach the function to the dropdown\n",
    "account_type.observe(on_account_type_change, names='value')\n",
    "\n",
    "# Function to handle submit button click\n",
    "def on_submit_button_clicked(b):\n",
    "    with output:\n",
    "        clear_output()  # Clear previous output\n",
    "        print(\"Form Submitted!\")\n",
    "        print(f\"Account Type: {account_type.value}\")\n",
    "        if account_type.value == 'Personal':\n",
    "            print(f\"Full Name: {personal_name.value}\")\n",
    "            print(f\"Age: {personal_age.value}\")\n",
    "            print(f\"Email: {personal_email.value}\")\n",
    "            print(f\"Phone: {personal_phone.value}\")\n",
    "            print(f\"Address: {personal_address.value}\")\n",
    "            print(f\"Subscribed to Newsletter: {personal_newsletter.value}\")\n",
    "        elif account_type.value == 'Business':\n",
    "            print(f\"Business Name: {business_name.value}\")\n",
    "            print(f\"Employee Count: {business_employee_count.value}\")\n",
    "            print(f\"Contact Person: {business_contact_person.value}\")\n",
    "            print(f\"Business Email: {business_email.value}\")\n",
    "            print(f\"Contact Phone: {business_phone.value}\")\n",
    "            print(f\"Website: {business_website.value}\")\n",
    "            print(f\"Opt-in for Marketing: {business_marketing_opt_in.value}\")\n",
    "\n",
    "# Function to handle clear button click\n",
    "def on_clear_button_clicked(b):\n",
    "    with output:\n",
    "        clear_output()  # Clear the output area\n",
    "        print(\"Output cleared.\")\n",
    "\n",
    "# Attach the click event functions to the buttons\n",
    "submit_button.on_click(on_submit_button_clicked)\n",
    "clear_button.on_click(on_clear_button_clicked)\n",
    "\n",
    "# Display dynamic fields container, buttons, and output area\n",
    "display(dynamic_fields, submit_button, clear_button, output)\n"
   ]
  },
  {
   "cell_type": "code",
   "execution_count": 14,
   "id": "f1c794f4-0e40-4071-b68d-eafd75c44d28",
   "metadata": {},
   "outputs": [
    {
     "data": {
      "application/vnd.jupyter.widget-view+json": {
       "model_id": "6d493ea663da4a28848ffe0faacb3bf7",
       "version_major": 2,
       "version_minor": 0
      },
      "text/plain": [
       "HTML(value='<h2>User Account Form</h2>')"
      ]
     },
     "metadata": {},
     "output_type": "display_data"
    },
    {
     "data": {
      "application/vnd.jupyter.widget-view+json": {
       "model_id": "f25411c17ac04a0095ffd31c85bc3753",
       "version_major": 2,
       "version_minor": 0
      },
      "text/plain": [
       "Dropdown(description='Account Type:', options=('Select Account Type', 'Personal', 'Business'), value='Select A…"
      ]
     },
     "metadata": {},
     "output_type": "display_data"
    },
    {
     "data": {
      "application/vnd.jupyter.widget-view+json": {
       "model_id": "65a9329908ce41e683c27c9f722fa906",
       "version_major": 2,
       "version_minor": 0
      },
      "text/plain": [
       "VBox()"
      ]
     },
     "metadata": {},
     "output_type": "display_data"
    },
    {
     "data": {
      "application/vnd.jupyter.widget-view+json": {
       "model_id": "001ad546c7f34663be4a2c7a74d25f0a",
       "version_major": 2,
       "version_minor": 0
      },
      "text/plain": [
       "Button(button_style='success', description='Submit', style=ButtonStyle())"
      ]
     },
     "metadata": {},
     "output_type": "display_data"
    },
    {
     "data": {
      "application/vnd.jupyter.widget-view+json": {
       "model_id": "9c1f4570c6974ca58ffd70021502a622",
       "version_major": 2,
       "version_minor": 0
      },
      "text/plain": [
       "Button(button_style='danger', description='Clear Output', style=ButtonStyle())"
      ]
     },
     "metadata": {},
     "output_type": "display_data"
    },
    {
     "data": {
      "application/vnd.jupyter.widget-view+json": {
       "model_id": "ca84e44b4cb14765b98178bd44f34a8d",
       "version_major": 2,
       "version_minor": 0
      },
      "text/plain": [
       "Output()"
      ]
     },
     "metadata": {},
     "output_type": "display_data"
    },
    {
     "data": {
      "application/vnd.jupyter.widget-view+json": {
       "model_id": "a83e1dbf15b94facb92375d935ebf6e1",
       "version_major": 2,
       "version_minor": 0
      },
      "text/plain": [
       "Output()"
      ]
     },
     "metadata": {},
     "output_type": "display_data"
    }
   ],
   "source": [
    "import ipywidgets as widgets\n",
    "from IPython.display import display, clear_output\n",
    "import pandas as pd\n",
    "\n",
    "# Title for the interface\n",
    "title = widgets.HTML(value=\"<h2>User Account Form</h2>\")\n",
    "display(title)\n",
    "\n",
    "# Dropdown to select account type\n",
    "account_type = widgets.Dropdown(\n",
    "    options=['Select Account Type', 'Personal', 'Business'],\n",
    "    description='Account Type:'\n",
    ")\n",
    "display(account_type)\n",
    "\n",
    "# Widgets for Personal Account Type\n",
    "personal_name = widgets.Text(description=\"Full Name:\")\n",
    "personal_age = widgets.IntSlider(value=25, min=10, max=100, description=\"Age:\")\n",
    "personal_email = widgets.Text(description=\"Email:\")\n",
    "personal_phone = widgets.Text(description=\"Phone:\")\n",
    "personal_address = widgets.Textarea(description=\"Address:\")\n",
    "personal_newsletter = widgets.Checkbox(value=True, description=\"Subscribe to Newsletter\")\n",
    "\n",
    "# Widgets for Business Account Type\n",
    "business_name = widgets.Text(description=\"Business Name:\")\n",
    "business_employee_count = widgets.IntSlider(value=10, min=1, max=1000, description=\"Employees:\")\n",
    "business_contact_person = widgets.Text(description=\"Contact Person:\")\n",
    "business_email = widgets.Text(description=\"Business Email:\")\n",
    "business_phone = widgets.Text(description=\"Contact Phone:\")\n",
    "business_website = widgets.Text(description=\"Website:\")\n",
    "business_marketing_opt_in = widgets.Checkbox(value=True, description=\"Opt-in for Marketing\")\n",
    "\n",
    "# Container for dynamically changing fields\n",
    "dynamic_fields = widgets.VBox([])\n",
    "\n",
    "# Submit and Clear Output buttons\n",
    "submit_button = widgets.Button(description=\"Submit\", button_style=\"success\")\n",
    "clear_button = widgets.Button(description=\"Clear Output\", button_style=\"danger\")\n",
    "\n",
    "# Output area for displaying results\n",
    "output = widgets.Output()\n",
    "table_output = widgets.Output()\n",
    "\n",
    "# List to store submitted data\n",
    "submitted_data = []\n",
    "\n",
    "# Function to update dynamic fields based on dropdown selection\n",
    "def on_account_type_change(change):\n",
    "    # Clear the current dynamic fields\n",
    "    dynamic_fields.children = []\n",
    "    # Show relevant fields based on the dropdown value\n",
    "    if change['new'] == 'Personal':\n",
    "        dynamic_fields.children = [\n",
    "            personal_name, personal_age, personal_email, personal_phone,\n",
    "            personal_address, personal_newsletter\n",
    "        ]\n",
    "    elif change['new'] == 'Business':\n",
    "        dynamic_fields.children = [\n",
    "            business_name, business_employee_count, business_contact_person,\n",
    "            business_email, business_phone, business_website, business_marketing_opt_in\n",
    "        ]\n",
    "\n",
    "# Attach the function to the dropdown\n",
    "account_type.observe(on_account_type_change, names='value')\n",
    "\n",
    "# Function to render table from submitted data\n",
    "def render_table():\n",
    "    # Convert the list of dictionaries to a DataFrame\n",
    "    df = pd.DataFrame(submitted_data)\n",
    "    \n",
    "    # Display the table\n",
    "    with table_output:\n",
    "        clear_output()  # Clear previous table output\n",
    "        display(df)\n",
    "\n",
    "# Function to handle submit button click\n",
    "def on_submit_button_clicked(b):\n",
    "    # Collect form data based on account type\n",
    "    if account_type.value == 'Personal':\n",
    "        data = {\n",
    "            \"Account Type\": \"Personal\",\n",
    "            \"Name\": personal_name.value,\n",
    "            \"Age\": personal_age.value,\n",
    "            \"Email\": personal_email.value,\n",
    "            \"Phone\": personal_phone.value,\n",
    "            \"Address\": personal_address.value,\n",
    "            \"Newsletter\": personal_newsletter.value\n",
    "        }\n",
    "    elif account_type.value == 'Business':\n",
    "        data = {\n",
    "            \"Account Type\": \"Business\",\n",
    "            \"Business Name\": business_name.value,\n",
    "            \"Employees\": business_employee_count.value,\n",
    "            \"Contact Person\": business_contact_person.value,\n",
    "            \"Email\": business_email.value,\n",
    "            \"Phone\": business_phone.value,\n",
    "            \"Website\": business_website.value,\n",
    "            \"Marketing Opt-In\": business_marketing_opt_in.value\n",
    "        }\n",
    "    else:\n",
    "        with output:\n",
    "            clear_output()\n",
    "            print(\"Please select a valid account type.\")\n",
    "        return\n",
    "\n",
    "    # Add the collected data to the list\n",
    "    submitted_data.append(data)\n",
    "    \n",
    "    # Render the updated table\n",
    "    render_table()\n",
    "\n",
    "# Function to handle clear button click\n",
    "def on_clear_button_clicked(b):\n",
    "    with output:\n",
    "        clear_output()  # Clear the output area\n",
    "        print(\"Output cleared.\")\n",
    "\n",
    "# Attach the click event functions to the buttons\n",
    "submit_button.on_click(on_submit_button_clicked)\n",
    "clear_button.on_click(on_clear_button_clicked)\n",
    "\n",
    "# Display dynamic fields container, buttons, and output areas\n",
    "display(dynamic_fields, submit_button, clear_button, output, table_output)\n"
   ]
  },
  {
   "cell_type": "code",
   "execution_count": 146,
   "id": "84528521-bbdb-4de5-b057-98019103680f",
   "metadata": {},
   "outputs": [],
   "source": [
    "import ipywidgets as widgets\n",
    "from IPython.display import display, clear_output, Javascript\n",
    "import pandas as pd\n",
    "import zipfile\n",
    "import os\n",
    "output = widgets.Output()\n",
    "paths_output = widgets.Output()\n",
    "\n",
    "with open('snippets.json', 'r') as file:\n",
    "   with output:\n",
    "       data = json.load(file)\n",
    "\n",
    "paths_df=pd.DataFrame(data[1])\n",
    "with paths_output:\n",
    "    display(paths_df)\n",
    "\n",
    "title = widgets.HTML(value=\"<h2>Tools</h2>\")\n",
    "\n",
    "file_to_zip = widgets.Text(description=\"File Path:\")\n",
    "extract_to = widgets.Text(description=\"Extract Path:\", disabled=True)\n",
    "create_folder = widgets.Checkbox(value=False, description=\"specify extract path\")\n",
    "unzip = widgets.Button(description=\"unzip\", button_style=\"success\")\n",
    "clear_btn = widgets.Button(description=\"clear\", button_style=\"danger\")\n",
    "btns=widgets.HBox([unzip, clear_btn])\n",
    "\n",
    "tab1=widgets.VBox([file_to_zip, extract_to, create_folder, btns])\n",
    "\n",
    "code_snippets = widgets.Dropdown(\n",
    "    options=['Select','Spark Session Creation', 'Pandas to Spark DF', 'Pandas DF to Workbook']\n",
    ")\n",
    "snippet=widgets.Textarea(layout=widgets.Layout(width=\"80%\", height=\"100px\"))\n",
    "copy_button = widgets.Button(\n",
    "    button_style=\"info\",\n",
    "    icon=\"copy\",\n",
    "    layout=widgets.Layout(width=\"100px\", height=\"auto\")\n",
    ")\n",
    "\n",
    "coderow1=widgets.HBox([code_snippets, copy_button])\n",
    "coderow2=widgets.VBox([coderow1, snippet])\n",
    "\n",
    "tab2acc1 = widgets.Accordion(children=[coderow2, paths_output])\n",
    "tab2acc1.set_title(0, 'Code')\n",
    "tab2acc1.set_title(1, 'Paths')\n",
    "\n",
    "tab2=widgets.VBox([tab2acc1])\n",
    "\n",
    "tabs = widgets.Tab()\n",
    "tabs.children = [tab1, tab2]\n",
    "tabs.set_title(0, 'Unzip')\n",
    "tabs.set_title(1, 'Snippets')\n",
    "\n",
    "def copy_to_clipboard(b):\n",
    "    with output:\n",
    "        clear_output()\n",
    "        print('copied!')\n",
    "        text_value = snippet.value.replace(\"\\n\", \"\\\\n\").replace(\"'\", \"\\\\'\")\n",
    "        display(Javascript(f\"\"\"\n",
    "        navigator.clipboard.writeText(\"{text_value}\");\n",
    "        \"\"\"))\n",
    "\n",
    "def switchContent(change):\n",
    "    with output:\n",
    "        clear_output()\n",
    "        if(change['new']!='Select'):\n",
    "            snippet.value=data[0]['code'][change['new']]['code']\n",
    "        else:\n",
    "            snippet.value=''\n",
    "        return\n",
    "\n",
    "def unzip_file(b):\n",
    "    with output:\n",
    "        clear_output()\n",
    "        dirs=file_to_zip.value.split('/')\n",
    "        folder=dirs[len(dirs)-1].split('.')[0]\n",
    "        if(not create_folder.value):\n",
    "            extract_path=folder\n",
    "        else:\n",
    "            extract_path=extract_to.value\n",
    "            if not os.path.exists(extract_path):\n",
    "                print(f\"{extract_path} path does not exists!\")\n",
    "                return\n",
    "        if file_to_zip.value=='' or  (not os.path.exists(file_to_zip.value)):\n",
    "            print('Please check zip file name')\n",
    "            return\n",
    "        with zipfile.ZipFile(file_to_zip.value, 'r') as zipf:\n",
    "            zipf.extractall(extract_path)\n",
    "        print(f\"Files extracted successfully to {extract_path}\")\n",
    "\n",
    "def execute_cmd(cmd):\n",
    "    try:\n",
    "        print(subprocess.run(cmd, check=True))\n",
    "        print(\"success!\")\n",
    "    except Exception as e:\n",
    "        print(\"An error occurred:\", e)\n",
    "\n",
    "def switchOption(change):\n",
    "    with output:\n",
    "        clear_output()\n",
    "        extract_to.disabled=not extract_to.disabled\n",
    "        print('toggled!')\n",
    "\n",
    "def clear(b):\n",
    "    with output:\n",
    "        clear_output()\n",
    "        return\n",
    "\n",
    "\n",
    "unzip.on_click(unzip_file)\n",
    "clear_btn.on_click(clear)\n",
    "copy_button.on_click(copy_to_clipboard)\n",
    "create_folder.observe(switchOption, names='value')\n",
    "code_snippets.observe(switchContent, names='value')\n",
    "\n",
    "def start():\n",
    "    display(title, tabs, output)"
   ]
  },
  {
   "cell_type": "code",
   "execution_count": 148,
   "id": "0c06f277-6c58-4654-9147-3893390f7b1a",
   "metadata": {},
   "outputs": [
    {
     "data": {
      "application/vnd.jupyter.widget-view+json": {
       "model_id": "11c4ad2fee85408897971280510c0656",
       "version_major": 2,
       "version_minor": 0
      },
      "text/plain": [
       "HTML(value='<h2>Tools</h2>')"
      ]
     },
     "metadata": {},
     "output_type": "display_data"
    },
    {
     "data": {
      "application/vnd.jupyter.widget-view+json": {
       "model_id": "73ba733493d94b569b106683730a2fee",
       "version_major": 2,
       "version_minor": 0
      },
      "text/plain": [
       "Tab(children=(VBox(children=(Text(value='', description='File Path:'), Text(value='', description='Extract Pat…"
      ]
     },
     "metadata": {},
     "output_type": "display_data"
    },
    {
     "data": {
      "application/vnd.jupyter.widget-view+json": {
       "model_id": "8f30442271c84e9fac645f1b6a86c188",
       "version_major": 2,
       "version_minor": 0
      },
      "text/plain": [
       "Output()"
      ]
     },
     "metadata": {},
     "output_type": "display_data"
    }
   ],
   "source": [
    "start()"
   ]
  },
  {
   "cell_type": "code",
   "execution_count": 120,
   "id": "a8e1339c-c193-4503-9dc0-30630f18aaa3",
   "metadata": {},
   "outputs": [
    {
     "data": {
      "application/vnd.jupyter.widget-view+json": {
       "model_id": "21767e66a5d1486286d7f56401866670",
       "version_major": 2,
       "version_minor": 0
      },
      "text/plain": [
       "VBox(children=(HBox(children=(Dropdown(description='Category:', options=('All', 'Electronics', 'Furniture', 'C…"
      ]
     },
     "metadata": {},
     "output_type": "display_data"
    }
   ],
   "source": [
    "import ipywidgets as widgets\n",
    "from IPython.display import display, clear_output\n",
    "import pandas as pd\n",
    "import matplotlib.pyplot as plt\n",
    "import random\n",
    "\n",
    "# Sample data creation (in real cases, load from a file or database)\n",
    "data = pd.DataFrame({\n",
    "    \"Product\": [\"Product A\", \"Product B\", \"Product C\", \"Product D\"] * 5,\n",
    "    \"Category\": [\"Electronics\", \"Furniture\", \"Clothing\", \"Kitchen\"] * 5,\n",
    "    \"Region\": [\"North\", \"South\", \"East\", \"West\"] * 5,\n",
    "    \"Sales\": [random.randint(1000, 5000) for _ in range(20)],\n",
    "    \"Quantity\": [random.randint(10, 100) for _ in range(20)]\n",
    "})\n",
    "\n",
    "# Define widgets\n",
    "category_filter = widgets.Dropdown(\n",
    "    options=[\"All\"] + data['Category'].unique().tolist(),\n",
    "    value=\"All\",\n",
    "    description=\"Category:\"\n",
    ")\n",
    "\n",
    "region_filter = widgets.Dropdown(\n",
    "    options=[\"All\"] + data['Region'].unique().tolist(),\n",
    "    value=\"All\",\n",
    "    description=\"Region:\"\n",
    ")\n",
    "\n",
    "refresh_button = widgets.Button(\n",
    "    description=\"Refresh Data\",\n",
    "    button_style=\"info\",\n",
    "    icon=\"refresh\"\n",
    ")\n",
    "\n",
    "clear_button = widgets.Button(\n",
    "    description=\"Clear Output\",\n",
    "    button_style=\"danger\",\n",
    "    icon=\"times\"\n",
    ")\n",
    "\n",
    "output_area = widgets.Output()\n",
    "\n",
    "# Summary area widgets\n",
    "total_sales = widgets.Label(value=\"Total Sales: Calculating...\")\n",
    "total_quantity = widgets.Label(value=\"Total Quantity: Calculating...\")\n",
    "average_sales = widgets.Label(value=\"Average Sales: Calculating...\")\n",
    "\n",
    "# Plotting function\n",
    "def plot_data(filtered_data):\n",
    "    with output_area:\n",
    "        clear_output(wait=True)\n",
    "        fig, ax = plt.subplots(figsize=(8, 4))\n",
    "        filtered_data.groupby(\"Product\")[\"Sales\"].sum().plot(kind=\"bar\", ax=ax, color=\"skyblue\")\n",
    "        ax.set_title(\"Total Sales by Product\")\n",
    "        ax.set_xlabel(\"Product\")\n",
    "        ax.set_ylabel(\"Sales\")\n",
    "        plt.show()\n",
    "\n",
    "# Function to update summary statistics\n",
    "def update_summary(filtered_data):\n",
    "    total_sales.value = f\"Total Sales: ${filtered_data['Sales'].sum()}\"\n",
    "    total_quantity.value = f\"Total Quantity: {filtered_data['Quantity'].sum()}\"\n",
    "    average_sales.value = f\"Average Sales: ${filtered_data['Sales'].mean():.2f}\"\n",
    "\n",
    "# Data filtering and display function\n",
    "def refresh_data(b):\n",
    "    filtered_data = data.copy()\n",
    "    if category_filter.value != \"All\":\n",
    "        filtered_data = filtered_data[filtered_data[\"Category\"] == category_filter.value]\n",
    "    if region_filter.value != \"All\":\n",
    "        filtered_data = filtered_data[filtered_data[\"Region\"] == region_filter.value]\n",
    "    \n",
    "    update_summary(filtered_data)\n",
    "    plot_data(filtered_data)\n",
    "    \n",
    "    with output_area:\n",
    "        clear_output(wait=True)\n",
    "        display(filtered_data)\n",
    "\n",
    "# Button click handlers\n",
    "refresh_button.on_click(refresh_data)\n",
    "\n",
    "def clear_output_display(b):\n",
    "    with output_area:\n",
    "        clear_output(wait=True)\n",
    "\n",
    "clear_button.on_click(clear_output_display)\n",
    "\n",
    "# Layout widgets\n",
    "filter_box = widgets.HBox([category_filter, region_filter, refresh_button, clear_button])\n",
    "summary_box = widgets.VBox([total_sales, total_quantity, average_sales])\n",
    "dashboard = widgets.VBox([filter_box, summary_box, output_area])\n",
    "\n",
    "# Display dashboard\n",
    "display(dashboard)\n"
   ]
  },
  {
   "cell_type": "code",
   "execution_count": 80,
   "id": "31a03583-2e18-45a3-aa09-d7f125a71523",
   "metadata": {},
   "outputs": [
    {
     "data": {
      "text/plain": [
       "dict"
      ]
     },
     "execution_count": 80,
     "metadata": {},
     "output_type": "execute_result"
    }
   ],
   "source": [
    "type(data)"
   ]
  },
  {
   "cell_type": "code",
   "execution_count": 114,
   "id": "322cda89-8fbe-4195-8640-35aaabb60954",
   "metadata": {},
   "outputs": [
    {
     "data": {
      "text/plain": [
       "5.25"
      ]
     },
     "execution_count": 114,
     "metadata": {},
     "output_type": "execute_result"
    }
   ],
   "source": [
    "168/32\n"
   ]
  },
  {
   "cell_type": "code",
   "execution_count": null,
   "id": "88913858-1046-41eb-ac4e-bbf4093c9987",
   "metadata": {},
   "outputs": [],
   "source": []
  }
 ],
 "metadata": {
  "kernelspec": {
   "display_name": "Python 3 (ipykernel)",
   "language": "python",
   "name": "python3"
  },
  "language_info": {
   "codemirror_mode": {
    "name": "ipython",
    "version": 3
   },
   "file_extension": ".py",
   "mimetype": "text/x-python",
   "name": "python",
   "nbconvert_exporter": "python",
   "pygments_lexer": "ipython3",
   "version": "3.11.4"
  }
 },
 "nbformat": 4,
 "nbformat_minor": 5
}
